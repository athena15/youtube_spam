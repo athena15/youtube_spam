{
 "cells": [
  {
   "cell_type": "code",
   "execution_count": 44,
   "metadata": {},
   "outputs": [],
   "source": [
    "import numpy as np\n",
    "import pandas as pd\n",
    "import matplotlib.pyplot as plt\n",
    "import seaborn as sns\n",
    "import zipfile\n",
    "import requests\n",
    "import os"
   ]
  },
  {
   "cell_type": "code",
   "execution_count": 4,
   "metadata": {},
   "outputs": [],
   "source": [
    "df = pd.read_csv('/Users/brenner/Downloads/YouTube-Spam-Collection-v1/Youtube03-LMFAO.csv')"
   ]
  },
  {
   "cell_type": "code",
   "execution_count": 116,
   "metadata": {
    "scrolled": true
   },
   "outputs": [],
   "source": [
    "url = 'https://archive.ics.uci.edu/ml/machine-learning-databases/00380/YouTube-Spam-Collection-v1.zip'\n",
    "\n",
    "path = os.getcwd() + '/targetfolder'\n",
    "\n",
    "r = requests.get(url)\n",
    "open('files', 'wb').write(r.content)\n",
    "\n",
    "with zipfile.ZipFile('file', 'r') as zip_ref:\n",
    "    zip_ref.extractall(path)\n",
    "\n",
    "df_list = []\n",
    "for fname in os.listdir(f'{path}/'):\n",
    "    if fname.endswith('.csv'):\n",
    "        df = pd.read_csv(f'{path}/{fname}')\n",
    "        df_list.append(df)\n",
    "df = pd.concat(df_list, axis=0)"
   ]
  },
  {
   "cell_type": "code",
   "execution_count": 118,
   "metadata": {},
   "outputs": [],
   "source": [
    "def url_in(x):\n",
    "    if 'www' in x.lower() or 'http' in x.lower():\n",
    "        return 1\n",
    "    else:\n",
    "        return 0"
   ]
  },
  {
   "cell_type": "code",
   "execution_count": 119,
   "metadata": {},
   "outputs": [],
   "source": [
    "words = ['subscribe', 'subscribers', 'watch', 'channel', 'check out', 'check', 'visit', 'like this', 'thumbs up']\n",
    "def keywords(x):\n",
    "    for word in words:\n",
    "        if word in x.lower():\n",
    "            return 1\n",
    "            break\n",
    "    return 0"
   ]
  },
  {
   "cell_type": "code",
   "execution_count": 120,
   "metadata": {},
   "outputs": [],
   "source": [
    "def all_caps(x):\n",
    "    if x.isupper():\n",
    "        return 1\n",
    "    else:\n",
    "        return 0"
   ]
  },
  {
   "cell_type": "code",
   "execution_count": 24,
   "metadata": {},
   "outputs": [],
   "source": [
    "# words = ['subscribe', 'subscribers', 'watch', 'channel', 'check out', 'check', 'visit', 'like this', 'thumbs up']\n",
    "# for word in words:\n",
    "#     df[word] = df['CONTENT'].str.contains(word).astype(int)"
   ]
  },
  {
   "cell_type": "code",
   "execution_count": 123,
   "metadata": {},
   "outputs": [],
   "source": [
    "df['url'] = df['CONTENT'].apply(url_in)\n",
    "df['all_caps'] = df['CONTENT'].apply(all_caps)\n",
    "df['keywords'] = df['CONTENT'].apply(keywords)"
   ]
  },
  {
   "cell_type": "code",
   "execution_count": 124,
   "metadata": {},
   "outputs": [
    {
     "data": {
      "text/html": [
       "<div>\n",
       "<style>\n",
       "    .dataframe thead tr:only-child th {\n",
       "        text-align: right;\n",
       "    }\n",
       "\n",
       "    .dataframe thead th {\n",
       "        text-align: left;\n",
       "    }\n",
       "\n",
       "    .dataframe tbody tr th {\n",
       "        vertical-align: top;\n",
       "    }\n",
       "</style>\n",
       "<table border=\"1\" class=\"dataframe\">\n",
       "  <thead>\n",
       "    <tr style=\"text-align: right;\">\n",
       "      <th></th>\n",
       "      <th>CLASS</th>\n",
       "      <th>url</th>\n",
       "      <th>all_caps</th>\n",
       "      <th>keywords</th>\n",
       "    </tr>\n",
       "  </thead>\n",
       "  <tbody>\n",
       "    <tr>\n",
       "      <th>CLASS</th>\n",
       "      <td>1.000000</td>\n",
       "      <td>0.290780</td>\n",
       "      <td>-0.011032</td>\n",
       "      <td>0.679415</td>\n",
       "    </tr>\n",
       "    <tr>\n",
       "      <th>url</th>\n",
       "      <td>0.290780</td>\n",
       "      <td>1.000000</td>\n",
       "      <td>-0.078153</td>\n",
       "      <td>-0.167973</td>\n",
       "    </tr>\n",
       "    <tr>\n",
       "      <th>all_caps</th>\n",
       "      <td>-0.011032</td>\n",
       "      <td>-0.078153</td>\n",
       "      <td>1.000000</td>\n",
       "      <td>0.029449</td>\n",
       "    </tr>\n",
       "    <tr>\n",
       "      <th>keywords</th>\n",
       "      <td>0.679415</td>\n",
       "      <td>-0.167973</td>\n",
       "      <td>0.029449</td>\n",
       "      <td>1.000000</td>\n",
       "    </tr>\n",
       "  </tbody>\n",
       "</table>\n",
       "</div>"
      ],
      "text/plain": [
       "             CLASS       url  all_caps  keywords\n",
       "CLASS     1.000000  0.290780 -0.011032  0.679415\n",
       "url       0.290780  1.000000 -0.078153 -0.167973\n",
       "all_caps -0.011032 -0.078153  1.000000  0.029449\n",
       "keywords  0.679415 -0.167973  0.029449  1.000000"
      ]
     },
     "execution_count": 124,
     "metadata": {},
     "output_type": "execute_result"
    }
   ],
   "source": [
    "df.corr()"
   ]
  },
  {
   "cell_type": "code",
   "execution_count": 125,
   "metadata": {
    "collapsed": true
   },
   "outputs": [
    {
     "name": "stdout",
     "output_type": "stream",
     "text": [
      "give it a like﻿\n",
      "Take a look at this video on YouTube:﻿\n",
      "Take a look at this video on YouTub<br />You﻿\n",
      "share your thoughts﻿\n",
      "We can have a party next share﻿\n",
      "░░░░░░░/\\░░░░░▄▐<br />░░░░░░/     \\░░░▄██▄<br />░░░░░/  (o)   \\░░░░░▀█▄<br />░░░░/             \\░░░░░░▀█▄<br />░░░/__   \\   ░▄▄▄▄▄▀▀<br />░░░░▄▄▄██▀▀▀▀<br />░░░█▀▄▄▄█░▀▀       YOU HAVE BEEN SPOOKED BY THE SPOOKINATI<br />░░░▌░▄▄▄▐▌▀▀▀<br />▄░▐░░░▄▄░█░▀▀    SHARE THIS TO 666 PEOPLE TO BE UNSPOOKED <br />▀█▌░░░▄░▀█▀░▀ <br />░░░░░░░▄▄▐▌▄▄<br />░░░░░░░▀███▀█░▄<br />░░░░░░▐▌▀▄▀▄▀▐▄<br />░░░░░░▐▀░░░░░░▐▌<br />░░░░░░█░░░░░░░░█<br />░░░░░▐▌░░░░░░░░░█<br />░░░░░█░░░░░░░░░░▐▌﻿\n",
      "los invito a subscribirse a mi canal ﻿\n",
      "Nezo and Ed<br />Like&amp;share this page on facebook please ﻿\n",
      "+447935454150 lovely girl talk to me xxx﻿\n",
      "Hello I&#39;am from Palastine﻿\n",
      "Aslamu Lykum... From Pakistan﻿\n",
      "Help me get 50 subs please ﻿\n",
      "Take a look at this video on YouTube:﻿\n",
      "like please﻿\n",
      "Im gonna share a little ryhme canibus blows eminem away a quadrillion times especially about the categories of intelligent things in his mind. That he learned and rapped about and forgot before eminem spit his first ryme.luv ya linz 4e﻿\n",
      "This guy win dollars sleeping... m m m he loves the planet its full of RETARDS\n",
      "GUYS SHARE THIS VIDEO!!!!!  HE must have 1.000.000.000 views  Share on Facebook, groups, pages!!\n",
      "Wow justin Bieber is Better  thats why when he buys medication he always shares with his half wited money alfred but sadly enough he is an attention hog with swamp ass and an eating disorder filled with sassy mice, and flaming hot cheetos that he can eat with the power of the samurman.\n",
      "EVERYONE GO AND SHARE youtu  be/ARkglzjQuP0 ON FB,TWITTER,G+ TO VOTE FOR EMINEM TO BECOME ARTIST OF THE YEAR ON FIRST EVER YOUTUBE MUSIC AWARDS !!!  AND GET THIS METHOD TO CHEAT AT INTERNET ROULETTE OUT OF EMINEMS VIDEO ! SHADY ARTIST OF THE YEAR !\n",
      "if eminem gets 1 penny per view he would have 600 million dollars\n",
      "Share this video.. This song can beat PSY - Gangnam Style!\n",
      "Look and shares my video please :D\n",
      "I&#39;m subscribing to you just because your comment was that great.\n",
      "Media is Evil! Please see and share: W W W. THE FARRELL REPORT. NET  Top Ex UK Police Intelligence Analyst turned Whistleblower Tony Farrell exposes a horrific monstrous cover-up perpetrated by criminals operating crimes from inside Mainstream Entertainment and Media Law firms. Beware protect your children!! These devils brutally target innocent people. These are the real criminals linked to London&#39;s 7/7 attacks 2005.  MUST SEE AND MAKE VIRAL!!! Also see UK Column video on 31st January 2013.\n",
      "SEE SOME MORE SONG OPEN GOOGLE AND TYPE Shakira GuruOfMovie﻿\n",
      "Thank you. Please give your email. ﻿\n",
      "Fuck it was the best ever 0687119038 nummber of patrik kluivert his son share !﻿\n",
      "Hey, have you tried &quot;DribblePROshot&quot; yet? Just do a search on Google. On their website you will find a useful free video demonstrating the right way to enormously improve your soccer or football skills in no time... It transformed Fausto into a substantially better football/soccer player...to the amazement of his team mates. Hopefully it works for you too.\n",
      "Hey guys whats up? I found this app that lets you get free gift card vouchers like psn cards,X-box live cards and even amazon gift cards. For free! All you have to do is  simply just download the app from the app store. It is called juno wallet. All you have to do is just sign up for the app and then complete a few surveys or just download some other free apps and you get money like 10 cents. Also, if you type in the code IM2458444. You will also start off with $0.25 free!! \n",
      "Stop Wasting Up Your Time and  Get Paid To Mess Around On Facebook And Twitter!  GET PAID UPTO $25 to $35 AN HOUR... Only at 4NetJobs.com  Work from the Comfort of your Home... We are Currently Hiring People from all Over the World,  For a Wide Range of Social Media Jobs on Sites such as Facebook,Twitter and YouTube.  You don&#39;t Need any Prior Skills or Experience and You can Begin Work Immediately!  You Can Easily Make $4000 to $5000+ Monthly Income…Only at 4NetJobs.com\n",
      "How To Make A Lot Of Money Fast\n",
      "Stop Wasting Up Your Time and  Get Paid To Mess Around On Facebook And Twitter!  GET PAID UPTO $25 to $35 AN HOUR... Only at 4NetJobs.com  Work from the Comfort of your Home... We are Currently Hiring People from all Over the World,  For a Wide Range of Social Media Jobs on Sites such as Facebook,Twitter and YouTube.  You don&#39;t Need any Prior Skills or Experience and You can Begin Work Immediately!  You Can Easily Make $4000 to $5000+ Monthly Income…Only at 4NetJobs.com\n",
      "Being paid to respond to fast paid surveys from home has enabled me to give up working and make more than 4500 bucks monthly.  To read more go to this web site bit.ly\\1bSefQe\n",
      "Hello Guys...I Found a Way to Make Money Online You Can Get Paid To Mess Around On Facebook And Twitter! GET PAID UPTO $25 to $35 AN HOUR...Only at 4NetJobs.com Work from the Comfort of your Home... They are Currently Hiring People from all Over the World, For a Wide Range of Social Media Jobs on Sites such as Facebook,Twitter and YouTube You don&#39;t Need any Prior Skills or Experience and You can Begin Work Immediately! You Can Easily Make $4000 to $5000+ Monthly Income…Only at 4NetJobs.com\n",
      "Hello Guys...I Found a Way to Make Money Online You Can Get Paid To Mess Around On Facebook And Twitter! GET PAID UPTO $25 to $35 AN HOUR...Only at 4NetJobs.com Work from the Comfort of your Home... They are Currently Hiring People from all Over the World, For a Wide Range of Social Media Jobs on Sites such as Facebook,Twitter and YouTube You don&#39;t Need any Prior Skills or Experience and You can Begin Work Immediately! You Can Easily Make $4000 to $5000+ Monthly Income…Only at 4NetJobs.com\n",
      "Hello Guys...I Found a Way to Make Money Online You Can Get Paid To Mess Around On Facebook And Twitter! GET PAID UPTO $25 to $35 AN HOUR...Only at 4NetJobs.com Work from the Comfort of your Home... They are Currently Hiring People from all Over the World, For a Wide Range of Social Media Jobs on Sites such as Facebook,Twitter and YouTube You don&#39;t Need any Prior Skills or Experience and You can Begin Work Immediately! You Can Easily Make $4000 to $5000+ Monthly Income…Only at 4NetJobs.com\n",
      "The britishs called that soccer but you know the true word is football and the US Foot is called rugby. That works like that in EUW ( Germany/ Netherland/ France/ Portugal/ Belgium/ Spain/ ... ) Just because the Britishs don&#39;t agree to be like us because they are UNIQUE. That&#39;s the reason why they also refused to have euro (€) as money\n",
      "Believe that Jesus Christ is your savior for all your sins. If you truly believe in Jesus Christ to be your savior for all your sins then you will go to Heaven. If you believe in Jesus Christ then you are saved and you are in salvation and you have gained God’s righteousness. It matters not how much you have sinned in the past, in the present and especially in the future. Believe that Jesus Christ is your savior and you will go to Heaven forever and that is the whole truth. Spread the truth. \n",
      "  Haha , Miley Cyrus has done it once again  Today someone leeched a porno video with her on a celeb site   I believe the website link is : miley-celeb-news.co.uk in case you want to view it.... \n",
      " I really can&#39;t comprehend Miley Cyrus , she actually is a high profile and she tapes herself banging Today a video was leeched with her sucking and fucking The video has been posted at the celebrity website under :  miley-celeb-news.co.uk \n",
      "ｈｔｔｐ://ｗｗｗ.ｅｂａｙ.ｃｏｍ/ｕｓｒ/ｓｈｏｅｃｏｌｌｅｃｔｏｒ314\n",
      "Recommend:  Apple iPad 4th Gen 32GB Unlocked Wi-Fi+4G 9.7in White Price:$390  Apple iPhone 5 (Latest Model) - 32GB - Black Price:$385  Samsung Galaxy S4 S IV 4 with 16GB New White Price:$360  Sony 60-inch 3D LED HDTV Price:$510  All-in-One PCs: Apple MacBook Pro: Apple MacBook Air Price:$320  Camera :Nikon D90 SLR Camera /18-55mm /55-200mm 32GB  Price:$390   Ultrabooks: SONY VAIO Pro 13 Intel Core i5 4GB 128GB Price:$515  +++++++++++++++    Purchase online Website is:  Taaee.com\n",
      "&quot;HELP THE HUMANITY WITH YOUR SIGN IN TO THIS LINK WITH YOUR WHOLEHEARTED SUPPORT IF YOU SAY &quot;NO&quot; TO DISCRIMINATION. “UNITED WE STAND “  WE WILL BRING THE CHANGE TOGETHER.  IMPOSSIBLE ITSELF SAYS I  M  POSSIBLE&quot;  YOU ARE THE WINNERS OF MY SUCCESS!CHEERS TO ALL MY LOVING BROTHERS AND SISTERS !  PLEASE SHARE THIS LINK ON FACEBOOK TO SUPPORT AGAINST DISCRIMINATION.  tinyurl(dot)com(slash)mxh2y77  FEAR NONE BUT GOD !!!\n",
      "Part 5. Comforter of the afflicted, pray for us Help of Christians, pray for us Queen of Angels, pray for us Queen of Patriarchs, pray for us Queen of Prophets, pray for us Queen of Apostles, pray for us Queen of Martyrs, pray for us Queen of Confessors, pray for us Queen of Virgins, pray for us Queen of all Saints, pray for us Queen conceived without original sin, pray for us Queen of the most holy Rosary, pray for us Queen of the family, pray for us Queen of peace, pray for us \n",
      "Part 2. Holy Mary, pray for us Holy Mother of God, pray for us Holy Virgin of virgins, pray for us Mother of Christ, pray for us Mother of divine grace, pray for us Mother most pure, pray for us Mother most chaste, pray for us Mother inviolate, pray for us Mother undefiled, pray for us Mother most amiable, pray for us Mother most admirable, pray for us Mother of good counsel, pray for us Mother of our Creator, pray for us Mother of our Redeemer, pray for us \n",
      "Hi.. Everyone.. If anyone after real online work. I can help u. Earn lots of money. It&#39;s fun. It&#39;s real and affiliated company.. U not think u r working. It&#39;s easy and enjoyable. For more info contact me .. Neeru105@ gmail.com\n",
      "Hey Youtubers and All Music lover&#39;s, Guess most of you all skip these comments, but for you who is still reading this, thanks ! I dont have any money for advertisiments, no chance of getting heard, nothing. All that&#39;s left is spam, sorry. Im 17, Rapper/Singer from Estonia. Please listen my new cover on my account. You wont regret it. Give me just a chance, please. Take half a second of your life and thumb this comment up. It will maybe change my life, for real. Thank you Wafence \n",
      "WAYS TO MAKE MONEY 50k Per Month Search google Now &gt;&gt; 9nl.me/make-money-without-investment-1\n",
      "Meet The Richest Online Marketer  NOW CLICK : bit.ly/make-money-without-adroid\n",
      "How did you know that people makes another account just for subscribing itself and liking??? :)\n",
      "WOW muslims are really egoistic..... 23% of the World population and not in this video or donating 1 dollar to the poor ones in Africa :( shame on those terrorist muslims\n",
      "i can to make money\n",
      "Earn money for being online with 0 efforts!    bit.ly\\14gKvDo\n",
      "adf.ly /KlD3Y\n",
      "Hey, hit this shit up while yall can, they killed the versace remix. Just type in CGE &quot;Versace Freestyle (Get Money)&quot; Shot by Ja-Wan Gardner and help them reach 1 million views.\n",
      "Hey, I am doing the Forty Hour famine so I&#39;ll be giving up on food and social working for 40 hours. I&#39;m doing this to raise money for African people who can&#39;t experience the luxuries that we can. So can you donate to give them a chance?  Any amount would do :)  Click on the link and donate h t t p : / / 4 0 h f . c o m . a u / A n t h o n y L a m Thanks :)\n",
      "adf.ly / KlD3Y\n",
      "adf.ly / KlD3Y\n",
      "Nice to meet You - this is Johnny: 1. If You already know my music - thumb this up, because You found it this way, too. 2. If You want to hear original songs completely made by 1 person, continue reading:  I sing, write original music+lyrics &amp; play guitar, bass, drums &amp; keyboards. I&#39;m a 1-man-band. My music is completely independent &amp; 100% listener-supported. If You want to hear it &amp; if You&#39;re willing to help record new album - click on my name/picture.  Enjoy the music - wish You awesome day!\n",
      "Hi -this is Johnny: 1. If You already know my music - thumb this up, because You found it this way, too. 2. If You want to hear original songs completely made by 1 person, continue reading:  I sing, write original music+lyrics &amp; play guitar, bass, drums &amp; keyboards. I&#39;m a 1-man-band. My music is completely independent &amp; 100% listener-supported. If You want to hear it &amp; if You&#39;re willing to help record new album - click on my name/picture.  Thank You &amp; enjoy the music - wish You awesome day!\n",
      "O peoples of the earth, I have seen how you perform every form of evil at your leisure! You cease not from reveling in that which I hate! Behold, you murder the innocent day and night and plot evil against your neighbor! You stand up for the rights of those who commit abomination and clap your hands as wickedness is celebrated openly in the streets!... O MOST PERVERSE AND ABOMINABLE GENERATION, SHALL I NOT REPAY?!  Hear the Word of The Lord - TrumpetCallOfGodOnline.  co m\n",
      "YAY IM THE 11TH COMMENTER!!!!!                                    IF YOUR  CRAZY PLEASE DONATE BITCOINS TO ME AT: 1FHeNqx1twqM153v2PTAyieJNEALAhZvEM﻿\n",
      "She loves Vena. trojmiasto.pl/Vena-Bus-Taxi-o59253.html﻿\n",
      "Katty perry please say in one of your new videoes that they follow the  Girls Girls please﻿\n",
      "follow me on instagram bigboss286﻿\n",
      "Nice song .See my new track.﻿\n",
      "follow me on twitter: freyacumqueen﻿\n",
      "Thank you KatyPerryVevo for your instagram likes @axeljonssons﻿\n",
      "Also LuckyMusiqLive she probably could help u make it big because I think u  have talent. Just look her name up on the internet. Hit me up when u get  this message﻿\n",
      "please look up DHG SONGS this is my playlist with a bunch of amazing songs ﻿\n",
      "this song gives me strength! love her lyrics. this video really brings the  lyrics to life. I'm getting known fast because i rap with meaning.. thumbs  up if you piss next to the water in the toilet so its quiet...﻿\n",
      "EVERYBODY PLEASE VOTE KATY AT EMA 2014 !!!!!  Best song  Best female Best pop Best live Best look  Best video  PLEASE VOTE KATY !!!!! PLEASE PLEASE PLEASE !!!!! VOTE VOTE VOTE !!!!! KATY KATY KATY !!!!!﻿\n",
      "Hey yall its the real Kevin Hart, shout out to my fans!!! follow me +RealKevinHeart ﻿\n",
      "KATY PERRY, I AM THE \"DÉCIO CABELO\", \"DECIO HAIR\". I AM 60 YEARS OF AGE. I  DON\"T HAVE FAMILY. I\"M SINGLE. ALONE. HOMELESS. I WAS AN ALCOHOLIC: 15 AT  THE AGE OF 46. I AM AN INVISIBLE COMPOSER. MY DREAM IS TO RECORD MY SONGS.  COULD YOU HELP ME? PLEASE! PLEASE! I TRUST THAT THE YOU WILL GIVE ME A  CHANCE. I HAVE 109 VIDEOS IN THE YOUTUBE: deciocabelo canal. KATY PERRY, I  WAS BORN IN OCTOBER 25, TOO. THANK YOU VERY MUCH!!! DECIO HAIR.﻿\n",
      "just for test I have to say murdev.com\n",
      "marketglory . com/strategygame/andrijamatf earn real money from game\n",
      "Does anyone here use gift cards like Amazon, itunes, psn, google play,  itunes, or any other gift cards? Then you'll be happy to know you can get  free gift card codes for free from an amazing site. Here is a $50 itunes  gift card code XXBB5TCZHM39HVZD﻿\n",
      "sub me if you dont like the song﻿\n",
      "gofundme.com/grwmps﻿\n",
      "Get free gift cards and pay pal money!﻿\n",
      "Follow me on twitter &amp; IG : __killuminati94﻿\n",
      "Search \"Chubbz Dinero - Ready Or Not \" Thanks ﻿\n",
      "Follow me on Twitter @mscalifornia95﻿\n",
      "Incmedia.org where the truth meets you.﻿\n",
      "hey again if you guys wouldnt mind chacking out my rap give it like and il  giver 3 of your vids a like﻿\n",
      "Hello! I'm kind of new to Youtube, And soon i'm soon going to be making  Launchpad Video's! :D I would really appreciate if i got some subs before i  started so that people can spot me easily! I dont really care about hate  comments so dont bother -_-﻿\n",
      " Follow me on Instagram. _chris_cz  ﻿\n",
      "I am so awesome and smart!!! Sucscribe to me!﻿\n",
      "Follow 4 Follow                           @ VaahidMustafic Like 4 Like ﻿\n"
     ]
    }
   ],
   "source": [
    "# for x in df[(df['CLASS']==1) & (df['url']==0) & (df['keywords']==0) & (df['all_caps']==0)]['CONTENT']:\n",
    "#     print(x)"
   ]
  },
  {
   "cell_type": "code",
   "execution_count": 126,
   "metadata": {},
   "outputs": [],
   "source": [
    "from sklearn.model_selection import train_test_split"
   ]
  },
  {
   "cell_type": "code",
   "execution_count": 127,
   "metadata": {},
   "outputs": [],
   "source": [
    "X = df[['url', 'all_caps', 'keywords']]\n",
    "y = df['CLASS']"
   ]
  },
  {
   "cell_type": "code",
   "execution_count": 128,
   "metadata": {},
   "outputs": [],
   "source": [
    "X_train, X_test, y_train, y_test = train_test_split(X, y, test_size=0.33, random_state=16)"
   ]
  },
  {
   "cell_type": "code",
   "execution_count": 129,
   "metadata": {},
   "outputs": [],
   "source": [
    "from sklearn.linear_model import LogisticRegression"
   ]
  },
  {
   "cell_type": "code",
   "execution_count": 130,
   "metadata": {},
   "outputs": [],
   "source": [
    "logmodel = LogisticRegression()"
   ]
  },
  {
   "cell_type": "code",
   "execution_count": 131,
   "metadata": {},
   "outputs": [
    {
     "data": {
      "text/plain": [
       "LogisticRegression(C=1.0, class_weight=None, dual=False, fit_intercept=True,\n",
       "          intercept_scaling=1, max_iter=100, multi_class='ovr', n_jobs=1,\n",
       "          penalty='l2', random_state=None, solver='liblinear', tol=0.0001,\n",
       "          verbose=0, warm_start=False)"
      ]
     },
     "execution_count": 131,
     "metadata": {},
     "output_type": "execute_result"
    }
   ],
   "source": [
    "logmodel.fit(X_train, y_train)"
   ]
  },
  {
   "cell_type": "code",
   "execution_count": 132,
   "metadata": {},
   "outputs": [],
   "source": [
    "predictions = logmodel.predict(X_test)"
   ]
  },
  {
   "cell_type": "code",
   "execution_count": 133,
   "metadata": {},
   "outputs": [],
   "source": [
    "from sklearn.metrics import classification_report, confusion_matrix"
   ]
  },
  {
   "cell_type": "code",
   "execution_count": 134,
   "metadata": {},
   "outputs": [
    {
     "name": "stdout",
     "output_type": "stream",
     "text": [
      "[[283  30]\n",
      " [ 33 300]]\n",
      "             precision    recall  f1-score   support\n",
      "\n",
      "          0       0.90      0.90      0.90       313\n",
      "          1       0.91      0.90      0.90       333\n",
      "\n",
      "avg / total       0.90      0.90      0.90       646\n",
      "\n"
     ]
    }
   ],
   "source": [
    "print(confusion_matrix(y_test, predictions))\n",
    "print(classification_report(y_test, predictions))"
   ]
  },
  {
   "cell_type": "code",
   "execution_count": 135,
   "metadata": {},
   "outputs": [],
   "source": [
    "from sklearn.linear_model import LinearRegression"
   ]
  },
  {
   "cell_type": "code",
   "execution_count": 136,
   "metadata": {},
   "outputs": [],
   "source": [
    "lr = LinearRegression(normalize=True)"
   ]
  },
  {
   "cell_type": "code",
   "execution_count": 137,
   "metadata": {},
   "outputs": [
    {
     "data": {
      "text/plain": [
       "LinearRegression(copy_X=True, fit_intercept=True, n_jobs=1, normalize=True)"
      ]
     },
     "execution_count": 137,
     "metadata": {},
     "output_type": "execute_result"
    }
   ],
   "source": [
    "lr.fit(X_train, y_train)"
   ]
  },
  {
   "cell_type": "code",
   "execution_count": 138,
   "metadata": {},
   "outputs": [],
   "source": [
    "pred = lr.predict(X_test)"
   ]
  },
  {
   "cell_type": "code",
   "execution_count": 139,
   "metadata": {},
   "outputs": [],
   "source": [
    "from sklearn import metrics"
   ]
  },
  {
   "cell_type": "code",
   "execution_count": 140,
   "metadata": {},
   "outputs": [
    {
     "name": "stdout",
     "output_type": "stream",
     "text": [
      "MAE:  0.206379660369\n",
      "MSE:  0.0984790757128\n",
      "RMSE:  0.313813759598\n"
     ]
    }
   ],
   "source": [
    "print('MAE: ', metrics.mean_absolute_error(y_test, pred))\n",
    "print('MSE: ', metrics.mean_squared_error(y_test, pred))\n",
    "print('RMSE: ', np.sqrt(metrics.mean_squared_error(y_test, pred)))"
   ]
  },
  {
   "cell_type": "code",
   "execution_count": null,
   "metadata": {},
   "outputs": [],
   "source": []
  }
 ],
 "metadata": {
  "kernelspec": {
   "display_name": "Python 3",
   "language": "python",
   "name": "python3"
  },
  "language_info": {
   "codemirror_mode": {
    "name": "ipython",
    "version": 3
   },
   "file_extension": ".py",
   "mimetype": "text/x-python",
   "name": "python",
   "nbconvert_exporter": "python",
   "pygments_lexer": "ipython3",
   "version": "3.6.3"
  }
 },
 "nbformat": 4,
 "nbformat_minor": 2
}
