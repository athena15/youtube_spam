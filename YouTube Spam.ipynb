{
 "cells": [
  {
   "cell_type": "code",
   "execution_count": 44,
   "metadata": {},
   "outputs": [],
   "source": [
    "import numpy as np\n",
    "import pandas as pd\n",
    "import matplotlib.pyplot as plt\n",
    "import seaborn as sns\n",
    "import zipfile\n",
    "import requests\n",
    "import os\n",
    "import glob"
   ]
  },
  {
   "cell_type": "code",
   "execution_count": 4,
   "metadata": {},
   "outputs": [],
   "source": [
    "df = pd.read_csv('/Users/brenner/Downloads/YouTube-Spam-Collection-v1/Youtube03-LMFAO.csv')"
   ]
  },
  {
   "cell_type": "code",
   "execution_count": 113,
   "metadata": {
    "scrolled": true
   },
   "outputs": [
    {
     "name": "stdout",
     "output_type": "stream",
     "text": [
      "/Users/brenner/targetfolder\n"
     ]
    }
   ],
   "source": [
    "url = 'https://archive.ics.uci.edu/ml/machine-learning-databases/00380/YouTube-Spam-Collection-v1.zip'\n",
    "\n",
    "path = os.getcwd() + '/targetfolder'\n",
    "\n",
    "r = requests.get(url)\n",
    "open('files', 'wb').write(r.content)\n",
    "\n",
    "with zipfile.ZipFile('file', 'r') as zip_ref:\n",
    "    zip_ref.extractall(path)\n",
    "\n",
    "df_list = []\n",
    "for fname in os.listdir(f'{path}/'):\n",
    "    if fname.endswith('.csv'):\n",
    "        df = pd.read_csv(f'{path}/{fname}')\n",
    "        df_list.append(df)\n",
    "master = pd.concat(df_list, axis=0)"
   ]
  },
  {
   "cell_type": "code",
   "execution_count": null,
   "metadata": {},
   "outputs": [],
   "source": [
    "df = pd.read_csv()"
   ]
  },
  {
   "cell_type": "code",
   "execution_count": 5,
   "metadata": {},
   "outputs": [],
   "source": [
    "def url_in(x):\n",
    "    if 'www' in x.lower() or 'http' in x.lower():\n",
    "        return 1\n",
    "    else:\n",
    "        return 0"
   ]
  },
  {
   "cell_type": "code",
   "execution_count": 6,
   "metadata": {},
   "outputs": [],
   "source": [
    "words = ['subscribe', 'subscribers', 'watch', 'channel', 'check out', 'check', 'visit', 'like this', 'thumbs up']\n",
    "def keywords(x):\n",
    "    for word in words:\n",
    "        if word in x.lower():\n",
    "            return 1\n",
    "            break\n",
    "    return 0"
   ]
  },
  {
   "cell_type": "code",
   "execution_count": 7,
   "metadata": {},
   "outputs": [],
   "source": [
    "def all_caps(x):\n",
    "    if x.isupper():\n",
    "        return 1\n",
    "    else:\n",
    "        return 0"
   ]
  },
  {
   "cell_type": "code",
   "execution_count": 30,
   "metadata": {},
   "outputs": [
    {
     "data": {
      "text/html": [
       "<div>\n",
       "<style>\n",
       "    .dataframe thead tr:only-child th {\n",
       "        text-align: right;\n",
       "    }\n",
       "\n",
       "    .dataframe thead th {\n",
       "        text-align: left;\n",
       "    }\n",
       "\n",
       "    .dataframe tbody tr th {\n",
       "        vertical-align: top;\n",
       "    }\n",
       "</style>\n",
       "<table border=\"1\" class=\"dataframe\">\n",
       "  <thead>\n",
       "    <tr style=\"text-align: right;\">\n",
       "      <th></th>\n",
       "      <th>CLASS</th>\n",
       "      <th>url</th>\n",
       "      <th>all_caps</th>\n",
       "      <th>keywords</th>\n",
       "    </tr>\n",
       "  </thead>\n",
       "  <tbody>\n",
       "    <tr>\n",
       "      <th>CLASS</th>\n",
       "      <td>1.000000</td>\n",
       "      <td>0.09924</td>\n",
       "      <td>-0.057058</td>\n",
       "      <td>0.866717</td>\n",
       "    </tr>\n",
       "    <tr>\n",
       "      <th>url</th>\n",
       "      <td>0.099240</td>\n",
       "      <td>1.00000</td>\n",
       "      <td>-0.058120</td>\n",
       "      <td>0.073410</td>\n",
       "    </tr>\n",
       "    <tr>\n",
       "      <th>all_caps</th>\n",
       "      <td>-0.057058</td>\n",
       "      <td>-0.05812</td>\n",
       "      <td>1.000000</td>\n",
       "      <td>-0.060987</td>\n",
       "    </tr>\n",
       "    <tr>\n",
       "      <th>keywords</th>\n",
       "      <td>0.866717</td>\n",
       "      <td>0.07341</td>\n",
       "      <td>-0.060987</td>\n",
       "      <td>1.000000</td>\n",
       "    </tr>\n",
       "  </tbody>\n",
       "</table>\n",
       "</div>"
      ],
      "text/plain": [
       "             CLASS      url  all_caps  keywords\n",
       "CLASS     1.000000  0.09924 -0.057058  0.866717\n",
       "url       0.099240  1.00000 -0.058120  0.073410\n",
       "all_caps -0.057058 -0.05812  1.000000 -0.060987\n",
       "keywords  0.866717  0.07341 -0.060987  1.000000"
      ]
     },
     "execution_count": 30,
     "metadata": {},
     "output_type": "execute_result"
    }
   ],
   "source": [
    "df.corr()"
   ]
  },
  {
   "cell_type": "code",
   "execution_count": 24,
   "metadata": {},
   "outputs": [],
   "source": [
    "# words = ['subscribe', 'subscribers', 'watch', 'channel', 'check out', 'check', 'visit', 'like this', 'thumbs up']\n",
    "# for word in words:\n",
    "#     df[word] = df['CONTENT'].str.contains(word).astype(int)"
   ]
  },
  {
   "cell_type": "code",
   "execution_count": 8,
   "metadata": {},
   "outputs": [],
   "source": [
    "df['url'] = df['CONTENT'].apply(url_in)\n",
    "df['all_caps'] = df['CONTENT'].apply(all_caps)\n",
    "df['keywords'] = df['CONTENT'].apply(keywords)"
   ]
  },
  {
   "cell_type": "code",
   "execution_count": 29,
   "metadata": {
    "scrolled": true
   },
   "outputs": [
    {
     "name": "stdout",
     "output_type": "stream",
     "text": [
      "give it a like﻿\n",
      "Take a look at this video on YouTube:﻿\n",
      "Take a look at this video on YouTub<br />You﻿\n",
      "share your thoughts﻿\n",
      "We can have a party next share﻿\n",
      "░░░░░░░/\\░░░░░▄▐<br />░░░░░░/     \\░░░▄██▄<br />░░░░░/  (o)   \\░░░░░▀█▄<br />░░░░/             \\░░░░░░▀█▄<br />░░░/__   \\   ░▄▄▄▄▄▀▀<br />░░░░▄▄▄██▀▀▀▀<br />░░░█▀▄▄▄█░▀▀       YOU HAVE BEEN SPOOKED BY THE SPOOKINATI<br />░░░▌░▄▄▄▐▌▀▀▀<br />▄░▐░░░▄▄░█░▀▀    SHARE THIS TO 666 PEOPLE TO BE UNSPOOKED <br />▀█▌░░░▄░▀█▀░▀ <br />░░░░░░░▄▄▐▌▄▄<br />░░░░░░░▀███▀█░▄<br />░░░░░░▐▌▀▄▀▄▀▐▄<br />░░░░░░▐▀░░░░░░▐▌<br />░░░░░░█░░░░░░░░█<br />░░░░░▐▌░░░░░░░░░█<br />░░░░░█░░░░░░░░░░▐▌﻿\n",
      "los invito a subscribirse a mi canal ﻿\n",
      "Nezo and Ed<br />Like&amp;share this page on facebook please ﻿\n"
     ]
    }
   ],
   "source": [
    "for x in df[(df['CLASS']==1) & (df['url']==0) & (df['keywords']==0) & (df['all_caps']==0)]['CONTENT']:\n",
    "    print(x)"
   ]
  },
  {
   "cell_type": "code",
   "execution_count": 9,
   "metadata": {},
   "outputs": [],
   "source": [
    "from sklearn.model_selection import train_test_split"
   ]
  },
  {
   "cell_type": "code",
   "execution_count": 10,
   "metadata": {},
   "outputs": [
    {
     "data": {
      "text/html": [
       "<div>\n",
       "<style>\n",
       "    .dataframe thead tr:only-child th {\n",
       "        text-align: right;\n",
       "    }\n",
       "\n",
       "    .dataframe thead th {\n",
       "        text-align: left;\n",
       "    }\n",
       "\n",
       "    .dataframe tbody tr th {\n",
       "        vertical-align: top;\n",
       "    }\n",
       "</style>\n",
       "<table border=\"1\" class=\"dataframe\">\n",
       "  <thead>\n",
       "    <tr style=\"text-align: right;\">\n",
       "      <th></th>\n",
       "      <th>COMMENT_ID</th>\n",
       "      <th>AUTHOR</th>\n",
       "      <th>DATE</th>\n",
       "      <th>CONTENT</th>\n",
       "      <th>CLASS</th>\n",
       "      <th>url</th>\n",
       "      <th>all_caps</th>\n",
       "      <th>keywords</th>\n",
       "    </tr>\n",
       "  </thead>\n",
       "  <tbody>\n",
       "    <tr>\n",
       "      <th>0</th>\n",
       "      <td>z13uwn2heqndtr5g304ccv5j5kqqzxjadmc0k</td>\n",
       "      <td>Corey Wilson</td>\n",
       "      <td>2015-05-28T21:39:52.376000</td>\n",
       "      <td>&lt;a href=\"http://www.youtube.com/watch?v=KQ6zr6...</td>\n",
       "      <td>0</td>\n",
       "      <td>1</td>\n",
       "      <td>0</td>\n",
       "      <td>1</td>\n",
       "    </tr>\n",
       "    <tr>\n",
       "      <th>1</th>\n",
       "      <td>z124jvczaz3dxhnbc04cffk43oiugj25yzo0k</td>\n",
       "      <td>Epic Gaming</td>\n",
       "      <td>2015-05-28T20:07:20.610000</td>\n",
       "      <td>wierd but funny﻿</td>\n",
       "      <td>0</td>\n",
       "      <td>0</td>\n",
       "      <td>0</td>\n",
       "      <td>0</td>\n",
       "    </tr>\n",
       "    <tr>\n",
       "      <th>2</th>\n",
       "      <td>z13tczjy5xj0vjmu5231unho1ofey5zdk</td>\n",
       "      <td>LaS Music</td>\n",
       "      <td>2015-05-28T19:23:35.355000</td>\n",
       "      <td>Hey guys, I&amp;#39;m a human.&lt;br /&gt;&lt;br /&gt;&lt;br /&gt;Bu...</td>\n",
       "      <td>1</td>\n",
       "      <td>1</td>\n",
       "      <td>0</td>\n",
       "      <td>1</td>\n",
       "    </tr>\n",
       "    <tr>\n",
       "      <th>3</th>\n",
       "      <td>z13tzr0hdpnayhqqc04cd3zqqqjkf3ngckk0k</td>\n",
       "      <td>Cheryl Fox</td>\n",
       "      <td>2015-05-28T17:49:35.294000</td>\n",
       "      <td>Party Rock....lol...who wants to shuffle!!!﻿</td>\n",
       "      <td>0</td>\n",
       "      <td>0</td>\n",
       "      <td>0</td>\n",
       "      <td>0</td>\n",
       "    </tr>\n",
       "    <tr>\n",
       "      <th>4</th>\n",
       "      <td>z12pcvix4zedcjvyb04ccr1r0mr2g5xwyng0k</td>\n",
       "      <td>PATRICK_TW</td>\n",
       "      <td>2015-05-28T16:28:26.818000</td>\n",
       "      <td>Party rock﻿</td>\n",
       "      <td>0</td>\n",
       "      <td>0</td>\n",
       "      <td>0</td>\n",
       "      <td>0</td>\n",
       "    </tr>\n",
       "  </tbody>\n",
       "</table>\n",
       "</div>"
      ],
      "text/plain": [
       "                              COMMENT_ID        AUTHOR  \\\n",
       "0  z13uwn2heqndtr5g304ccv5j5kqqzxjadmc0k  Corey Wilson   \n",
       "1  z124jvczaz3dxhnbc04cffk43oiugj25yzo0k   Epic Gaming   \n",
       "2      z13tczjy5xj0vjmu5231unho1ofey5zdk     LaS Music   \n",
       "3  z13tzr0hdpnayhqqc04cd3zqqqjkf3ngckk0k    Cheryl Fox   \n",
       "4  z12pcvix4zedcjvyb04ccr1r0mr2g5xwyng0k    PATRICK_TW   \n",
       "\n",
       "                         DATE  \\\n",
       "0  2015-05-28T21:39:52.376000   \n",
       "1  2015-05-28T20:07:20.610000   \n",
       "2  2015-05-28T19:23:35.355000   \n",
       "3  2015-05-28T17:49:35.294000   \n",
       "4  2015-05-28T16:28:26.818000   \n",
       "\n",
       "                                             CONTENT  CLASS  url  all_caps  \\\n",
       "0  <a href=\"http://www.youtube.com/watch?v=KQ6zr6...      0    1         0   \n",
       "1                                   wierd but funny﻿      0    0         0   \n",
       "2  Hey guys, I&#39;m a human.<br /><br /><br />Bu...      1    1         0   \n",
       "3       Party Rock....lol...who wants to shuffle!!!﻿      0    0         0   \n",
       "4                                        Party rock﻿      0    0         0   \n",
       "\n",
       "   keywords  \n",
       "0         1  \n",
       "1         0  \n",
       "2         1  \n",
       "3         0  \n",
       "4         0  "
      ]
     },
     "execution_count": 10,
     "metadata": {},
     "output_type": "execute_result"
    }
   ],
   "source": [
    "df.head()"
   ]
  },
  {
   "cell_type": "code",
   "execution_count": 11,
   "metadata": {},
   "outputs": [],
   "source": [
    "X = df[['url', 'all_caps', 'keywords']]\n",
    "y = df['CLASS']"
   ]
  },
  {
   "cell_type": "code",
   "execution_count": 12,
   "metadata": {},
   "outputs": [],
   "source": [
    "X_train, X_test, y_train, y_test = train_test_split(X, y, test_size=0.33, random_state=15)"
   ]
  },
  {
   "cell_type": "code",
   "execution_count": 13,
   "metadata": {},
   "outputs": [],
   "source": [
    "from sklearn.linear_model import LogisticRegression"
   ]
  },
  {
   "cell_type": "code",
   "execution_count": 14,
   "metadata": {},
   "outputs": [],
   "source": [
    "logmodel = LogisticRegression()"
   ]
  },
  {
   "cell_type": "code",
   "execution_count": 15,
   "metadata": {},
   "outputs": [
    {
     "data": {
      "text/plain": [
       "LogisticRegression(C=1.0, class_weight=None, dual=False, fit_intercept=True,\n",
       "          intercept_scaling=1, max_iter=100, multi_class='ovr', n_jobs=1,\n",
       "          penalty='l2', random_state=None, solver='liblinear', tol=0.0001,\n",
       "          verbose=0, warm_start=False)"
      ]
     },
     "execution_count": 15,
     "metadata": {},
     "output_type": "execute_result"
    }
   ],
   "source": [
    "logmodel.fit(X_train, y_train)"
   ]
  },
  {
   "cell_type": "code",
   "execution_count": 16,
   "metadata": {},
   "outputs": [],
   "source": [
    "predictions = logmodel.predict(X_test)"
   ]
  },
  {
   "cell_type": "code",
   "execution_count": 17,
   "metadata": {},
   "outputs": [],
   "source": [
    "from sklearn.metrics import classification_report, confusion_matrix"
   ]
  },
  {
   "cell_type": "code",
   "execution_count": 26,
   "metadata": {},
   "outputs": [
    {
     "name": "stdout",
     "output_type": "stream",
     "text": [
      "[[61  4]\n",
      " [ 3 77]]\n",
      "             precision    recall  f1-score   support\n",
      "\n",
      "          0       0.95      0.94      0.95        65\n",
      "          1       0.95      0.96      0.96        80\n",
      "\n",
      "avg / total       0.95      0.95      0.95       145\n",
      "\n"
     ]
    }
   ],
   "source": [
    "print(confusion_matrix(y_test, predictions))\n",
    "print(classification_report(y_test, predictions))"
   ]
  },
  {
   "cell_type": "code",
   "execution_count": 19,
   "metadata": {},
   "outputs": [],
   "source": [
    "from sklearn.linear_model import LinearRegression"
   ]
  },
  {
   "cell_type": "code",
   "execution_count": 20,
   "metadata": {},
   "outputs": [],
   "source": [
    "lr = LinearRegression(normalize=True)"
   ]
  },
  {
   "cell_type": "code",
   "execution_count": 21,
   "metadata": {},
   "outputs": [
    {
     "data": {
      "text/plain": [
       "LinearRegression(copy_X=True, fit_intercept=True, n_jobs=1, normalize=True)"
      ]
     },
     "execution_count": 21,
     "metadata": {},
     "output_type": "execute_result"
    }
   ],
   "source": [
    "lr.fit(X_train, y_train)"
   ]
  },
  {
   "cell_type": "code",
   "execution_count": 22,
   "metadata": {},
   "outputs": [],
   "source": [
    "pred = lr.predict(X_test)"
   ]
  },
  {
   "cell_type": "code",
   "execution_count": 23,
   "metadata": {},
   "outputs": [],
   "source": [
    "from sklearn import metrics"
   ]
  },
  {
   "cell_type": "code",
   "execution_count": 24,
   "metadata": {},
   "outputs": [
    {
     "name": "stdout",
     "output_type": "stream",
     "text": [
      "MAE:  0.11417496889\n",
      "MSE:  0.0489150099375\n",
      "RMSE:  0.221167379913\n"
     ]
    }
   ],
   "source": [
    "print('MAE: ', metrics.mean_absolute_error(y_test, pred))\n",
    "print('MSE: ', metrics.mean_squared_error(y_test, pred))\n",
    "print('RMSE: ', np.sqrt(metrics.mean_squared_error(y_test, pred)))"
   ]
  },
  {
   "cell_type": "code",
   "execution_count": null,
   "metadata": {},
   "outputs": [],
   "source": []
  }
 ],
 "metadata": {
  "kernelspec": {
   "display_name": "Python 3",
   "language": "python",
   "name": "python3"
  },
  "language_info": {
   "codemirror_mode": {
    "name": "ipython",
    "version": 3
   },
   "file_extension": ".py",
   "mimetype": "text/x-python",
   "name": "python",
   "nbconvert_exporter": "python",
   "pygments_lexer": "ipython3",
   "version": "3.6.3"
  }
 },
 "nbformat": 4,
 "nbformat_minor": 2
}
